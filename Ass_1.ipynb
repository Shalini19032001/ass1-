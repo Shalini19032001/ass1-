{
  "nbformat": 4,
  "nbformat_minor": 0,
  "metadata": {
    "colab": {
      "provenance": []
    },
    "kernelspec": {
      "name": "python3",
      "display_name": "Python 3"
    },
    "language_info": {
      "name": "python"
    }
  },
  "cells": [
    {
      "cell_type": "markdown",
      "source": [
        "# **Statistics Basics**"
      ],
      "metadata": {
        "id": "EF_RWum-86X0"
      }
    },
    {
      "cell_type": "markdown",
      "source": [
        "**Assignment QuestionsAssignment Questions**"
      ],
      "metadata": {
        "id": "sIl_Bf9_86dC"
      }
    },
    {
      "cell_type": "markdown",
      "source": [
        " 1. Explain the different types of data (qualitative and quantitative) and provide examples of each. Discuss\n",
        "nominal, ordinal, interval, and ratio scales.\n",
        "\n",
        "- Qualitative (Categorical) Data: Describes qualities or characteristics.\n",
        "\n",
        "  Nominal: Categories without order (e.g., gender, colors).\n",
        "\n",
        "  Ordinal: Categories with order (e.g., ranks, satisfaction levels).\n",
        "\n",
        "- Quantitative (Numerical) Data: Represents numbers.\n",
        "\n",
        "  Interval: Numeric scale with no true zero (e.g., temperature in Celsius).\n",
        "\n",
        "  Ratio: Numeric scale with true zero (e.g., weight, height)."
      ],
      "metadata": {
        "id": "ho6Mt9V386gm"
      }
    },
    {
      "cell_type": "markdown",
      "source": [
        "2. What are the measures of central tendency, and when should you use each? Discuss the mean, median,\n",
        "and mode with examples and situations where each is appropriate.\n",
        "\n",
        "- Mean: Arithmetic average. Best when data is symmetric and no extreme outliers.\n",
        "\n",
        "- Median: Middle value. Best when data is skewed or has outliers.\n",
        "\n",
        "- Mode: Most frequent value. Best for categorical or repeated data.\n",
        "\n",
        "Example:\n",
        "\n",
        "    Test scores with extreme low values → Median.\n",
        "\n",
        "    Shoe size popularity → Mode.\n",
        "\n",
        "    Average salary in a balanced dataset → Mean.\n",
        "\n",
        "\n"
      ],
      "metadata": {
        "id": "ItsuM_rL86jX"
      }
    },
    {
      "cell_type": "markdown",
      "source": [
        " 3. Explain the concept of dispersion. How do variance and standard deviation measure the spread of data?\n",
        "\n",
        " - Dispersion = spread of data around the central tendency.\n",
        "\n",
        "- Variance: Average of squared deviations from the mean.\n",
        "\n",
        "- Standard Deviation (SD): Square root of variance, shows spread in same units as data.\n",
        "\n",
        "- Higher SD → more variability."
      ],
      "metadata": {
        "id": "wkHj7Ask86mI"
      }
    },
    {
      "cell_type": "markdown",
      "source": [
        "4. What is a box plot, and what can it tell you about the distribution of data?\n",
        "\n",
        "- Box Plot\n",
        "\n",
        "  A graphical representation using the five-number summary (min, Q1, median, Q3, max).\n",
        "\n",
        "  Shows spread, symmetry, skewness, and outliers.\n",
        "\n",
        "  Helps quickly visualize data distribution."
      ],
      "metadata": {
        "id": "tXN_TPqr-XGl"
      }
    },
    {
      "cell_type": "markdown",
      "source": [
        "5. Discuss the role of random sampling in making inferences about populations.\n",
        "\n",
        "- Ensures every individual has equal chance of selection.\n",
        "\n",
        "- Reduces bias and makes sample representative.\n",
        "\n",
        "- Enables valid inferences about population."
      ],
      "metadata": {
        "id": "M_U87o8N-kLr"
      }
    },
    {
      "cell_type": "markdown",
      "source": [
        "6. Explain the concept of skewness and its types. How does skewness affect the interpretation of data?\n",
        "\n",
        "- Measure of asymmetry in distribution.\n",
        "\n",
        "- Positive Skew: Tail on right (e.g., income data). Mean > Median > Mode.\n",
        "\n",
        "- Negative Skew: Tail on left (e.g., exam scores with many high marks). Mean < Median < Mode.\n",
        "\n",
        "- Skewness affects which central tendency measure is most reliable."
      ],
      "metadata": {
        "id": "XmrO9xti-u18"
      }
    },
    {
      "cell_type": "markdown",
      "source": [
        "7. What is the interquartile range (IQR), and how is it used to detect outliers?\n",
        "\n",
        "- IQR = Q3-Q1\n",
        "- Measures middle 50% spread.\n",
        "\n",
        "- Used to detect outliers:\n",
        "\n",
        "- Outlier if value < Q1 – 1.5×IQR or > Q3 + 1.5×IQR."
      ],
      "metadata": {
        "id": "8E2RUc6M-6FY"
      }
    },
    {
      "cell_type": "markdown",
      "source": [
        "8. Discuss the conditions under which the binomial distribution is used.\n",
        "\n",
        "- Fixed number of trials (n).\n",
        "\n",
        "- Each trial has 2 outcomes (success/failure).\n",
        "\n",
        "- Probability of success (p) is constant.\n",
        "\n",
        "- Trials are independent.\n",
        "\n",
        "   Example: Tossing a coin 10 times."
      ],
      "metadata": {
        "id": "CIIFl3Hb_Got"
      }
    },
    {
      "cell_type": "markdown",
      "source": [
        "9. Explain the properties of the normal distribution and the empirical rule (68-95-99.7 rule).\n",
        "\n",
        "- Bell-shaped, symmetric, mean = median = mode.\n",
        "\n",
        "- Area under curve = 1.\n",
        "\n",
        "- Empirical Rule:\n",
        "\n",
        "    68% data within 1 SD of mean,\n",
        "\n",
        "    95% within 2 SD,\n",
        "\n",
        "    99.7% within 3 SD."
      ],
      "metadata": {
        "id": "95nFBtK0_oon"
      }
    },
    {
      "cell_type": "markdown",
      "source": [
        " 10. Provide a real-life example of a Poisson process and calculate the probability for a specific event.\n",
        "\n",
        " - Events occur independently at constant average rate.\n",
        "\n",
        "- Example: Number of customer arrivals at a bank per hour."
      ],
      "metadata": {
        "id": "lV6wuHTV_ox2"
      }
    },
    {
      "cell_type": "markdown",
      "source": [
        " 11. Explain what a random variable is and differentiate between discrete and continuous random variables.\n",
        "\n",
        " - Variable whose values depend on outcomes of random process.\n",
        "\n",
        "- Discrete: Countable (e.g., number of heads in 10 tosses).\n",
        "\n",
        "- Continuous: Infinite within an interval (e.g., height, time)."
      ],
      "metadata": {
        "id": "QraWpWcz_o5V"
      }
    },
    {
      "cell_type": "markdown",
      "source": [
        "12. Provide an example dataset, calculate both covariance and correlation, and interpret the results.\n",
        "\n",
        "- X = [1, 2, 3, 4], Y = [2, 4, 6, 8]\n",
        "\n",
        "  Covariance: Positive, since both increase together.\n",
        "\n",
        "  Interpretation: Perfect positive linear relationship."
      ],
      "metadata": {
        "id": "XBHoQCAl_pBe"
      }
    }
  ]
}